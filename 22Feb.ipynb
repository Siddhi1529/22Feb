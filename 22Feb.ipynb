{
  "nbformat": 4,
  "nbformat_minor": 0,
  "metadata": {
    "colab": {
      "provenance": []
    },
    "kernelspec": {
      "name": "python3",
      "display_name": "Python 3"
    },
    "language_info": {
      "name": "python"
    }
  },
  "cells": [
    {
      "cell_type": "markdown",
      "source": [
        "Q1. Create a Pandas Series that contains the following data: 4, 8, 15, 16, 23, and 42. Then, print the series.\n"
      ],
      "metadata": {
        "id": "kNwCAPXsZjor"
      }
    },
    {
      "cell_type": "code",
      "source": [
        "import pandas as pd\n",
        "\n",
        "# Creating a Pandas Series with the given data\n",
        "data = [4, 8, 15, 16, 23, 42]\n",
        "series = pd.Series(data)\n",
        "\n",
        "# Printing the series\n",
        "print(series)\n"
      ],
      "metadata": {
        "colab": {
          "base_uri": "https://localhost:8080/"
        },
        "id": "KaiuD_DkZkyK",
        "outputId": "fb7a160d-36db-439c-c80b-3119d2401b5d"
      },
      "execution_count": 1,
      "outputs": [
        {
          "output_type": "stream",
          "name": "stdout",
          "text": [
            "0     4\n",
            "1     8\n",
            "2    15\n",
            "3    16\n",
            "4    23\n",
            "5    42\n",
            "dtype: int64\n"
          ]
        }
      ]
    },
    {
      "cell_type": "code",
      "source": [],
      "metadata": {
        "id": "OhBNyYB6aT1s"
      },
      "execution_count": null,
      "outputs": []
    },
    {
      "cell_type": "markdown",
      "source": [
        "Q2. Create a variable of list type containing 10 elements in it, and apply pandas.Series function on the\n",
        "variable print it.\n"
      ],
      "metadata": {
        "id": "pIA5BAN3Zk5v"
      }
    },
    {
      "cell_type": "code",
      "source": [
        "import pandas as pd\n",
        "\n",
        "# Creating a list with 10 elements\n",
        "data = [1, 2, 3, 4, 5, 6, 7, 8, 9, 10]\n",
        "\n",
        "# Applying pandas.Series function\n",
        "series = pd.Series(data)\n",
        "\n",
        "# Printing the series\n",
        "print(series)\n"
      ],
      "metadata": {
        "colab": {
          "base_uri": "https://localhost:8080/"
        },
        "id": "7dVV6CKFZmEQ",
        "outputId": "c041a746-3ec3-4726-f516-a5644c823442"
      },
      "execution_count": 2,
      "outputs": [
        {
          "output_type": "stream",
          "name": "stdout",
          "text": [
            "0     1\n",
            "1     2\n",
            "2     3\n",
            "3     4\n",
            "4     5\n",
            "5     6\n",
            "6     7\n",
            "7     8\n",
            "8     9\n",
            "9    10\n",
            "dtype: int64\n"
          ]
        }
      ]
    },
    {
      "cell_type": "code",
      "source": [],
      "metadata": {
        "id": "fn_sb8ggaUXJ"
      },
      "execution_count": null,
      "outputs": []
    },
    {
      "cell_type": "markdown",
      "source": [
        "Q3. Create a Pandas DataFrame that contains the following data:\n",
        "\n",
        "Then, print the DataFrame.\n"
      ],
      "metadata": {
        "id": "Nw7HVQeEZmKc"
      }
    },
    {
      "cell_type": "code",
      "source": [
        "import pandas as pd\n",
        "\n",
        "# Creating a dictionary with the given data\n",
        "data = {\n",
        "    \"Name\": [\"Alice\", \"Bob\", \"Claire\"],\n",
        "    \"Age\": [25, 30, 27],\n",
        "    \"Gender\": [\"Female\", \"Male\", \"Female\"]\n",
        "}\n",
        "\n",
        "# Creating a Pandas DataFrame\n",
        "dataframe = pd.DataFrame(data)\n",
        "\n",
        "# Printing the DataFrame\n",
        "print(dataframe)\n"
      ],
      "metadata": {
        "colab": {
          "base_uri": "https://localhost:8080/"
        },
        "id": "uSnINOxZZnVg",
        "outputId": "f3feba43-5d8b-410a-f3e2-599aa2df3044"
      },
      "execution_count": 3,
      "outputs": [
        {
          "output_type": "stream",
          "name": "stdout",
          "text": [
            "     Name  Age  Gender\n",
            "0   Alice   25  Female\n",
            "1     Bob   30    Male\n",
            "2  Claire   27  Female\n"
          ]
        }
      ]
    },
    {
      "cell_type": "code",
      "source": [],
      "metadata": {
        "id": "p3S29uiLaVD3"
      },
      "execution_count": null,
      "outputs": []
    },
    {
      "cell_type": "markdown",
      "source": [
        "Q4. What is ‘DataFrame’ in pandas and how is it different from pandas.series? Explain with an example.\n"
      ],
      "metadata": {
        "id": "uzJ-wxoeZnbk"
      }
    },
    {
      "cell_type": "markdown",
      "source": [
        "A DataFrame in pandas is a two-dimensional, tabular data structure with labeled rows and columns. It can hold data of different types (e.g., integers, floats, strings) and is comparable to a table in a relational database or an Excel spreadsheet.\n",
        "\n",
        "Difference Between DataFrame and Series:\n",
        "DataFrame: Two-dimensional with rows and columns, holding multiple Series or data arrays.\n",
        "Series: One-dimensional, holding a single column of data with an optional index."
      ],
      "metadata": {
        "id": "fQbpO_KOaIu8"
      }
    },
    {
      "cell_type": "code",
      "source": [
        "import pandas as pd\n",
        "\n",
        "# Creating a Series\n",
        "series = pd.Series([10, 20, 30], name=\"Values\")\n",
        "print(\"Series:\")\n",
        "print(series)\n",
        "\n",
        "# Creating a DataFrame\n",
        "data = {\n",
        "    \"Name\": [\"Alice\", \"Bob\", \"Claire\"],\n",
        "    \"Age\": [25, 30, 27],\n",
        "    \"Gender\": [\"Female\", \"Male\", \"Female\"]\n",
        "}\n",
        "dataframe = pd.DataFrame(data)\n",
        "print(\"\\nDataFrame:\")\n",
        "print(dataframe)\n"
      ],
      "metadata": {
        "colab": {
          "base_uri": "https://localhost:8080/"
        },
        "id": "19dNGNErZokR",
        "outputId": "9f48a948-7f6e-4e6f-dc22-12c507e61204"
      },
      "execution_count": 4,
      "outputs": [
        {
          "output_type": "stream",
          "name": "stdout",
          "text": [
            "Series:\n",
            "0    10\n",
            "1    20\n",
            "2    30\n",
            "Name: Values, dtype: int64\n",
            "\n",
            "DataFrame:\n",
            "     Name  Age  Gender\n",
            "0   Alice   25  Female\n",
            "1     Bob   30    Male\n",
            "2  Claire   27  Female\n"
          ]
        }
      ]
    },
    {
      "cell_type": "code",
      "source": [],
      "metadata": {
        "id": "GkLnidKMaTAT"
      },
      "execution_count": null,
      "outputs": []
    },
    {
      "cell_type": "markdown",
      "source": [
        "Q5. What are some common functions you can use to manipulate data in a Pandas DataFrame? Can\n",
        "you give an example of when you might use one of these functions?\n"
      ],
      "metadata": {
        "id": "3zPjv_LfZopt"
      }
    },
    {
      "cell_type": "markdown",
      "source": [
        "head()\n",
        "\n",
        "Purpose: Returns the first N rows of the DataFrame.\n",
        "Example use: If you're checking the first few rows of a large dataset to understand its structure.\n",
        "\n"
      ],
      "metadata": {
        "id": "GX7EO2E9aoI_"
      }
    },
    {
      "cell_type": "markdown",
      "source": [
        "tail()\n",
        "Purpose: Returns the last N rows of the DataFrame.\n",
        "Example use: If you want to quickly view the last few rows, often used to check data after a transformation or sort operation."
      ],
      "metadata": {
        "id": "nmEvIbmvaqLy"
      }
    },
    {
      "cell_type": "markdown",
      "source": [
        "drop()\n",
        "Purpose: Removes rows or columns by labels.\n",
        "Example use: When you need to drop unnecessary columns from a DataFrame."
      ],
      "metadata": {
        "id": "Z98oN9xJas35"
      }
    },
    {
      "cell_type": "code",
      "source": [],
      "metadata": {
        "id": "39HW__JwZp6F"
      },
      "execution_count": null,
      "outputs": []
    },
    {
      "cell_type": "markdown",
      "source": [
        "Q6. Which of the following is mutable in nature Series, DataFrame, Panel?\n"
      ],
      "metadata": {
        "id": "rDs0h4BpZqBP"
      }
    },
    {
      "cell_type": "markdown",
      "source": [
        "Series: Mutable\n",
        "\n",
        "You can modify the values in a Series, meaning you can change individual elements or update the entire Series with new values.\n",
        "\n",
        "DataFrame: Mutable\n",
        "\n",
        "DataFrames are mutable, allowing you to modify individual rows, columns, or the entire DataFrame. You can also add new columns or delete existing ones.\n",
        "\n",
        "anel: Mutable, but deprecated in recent versions of Pandas.\n",
        "\n",
        "Panels were mutable, but as of version 1.0.0, the Panel data structure has been deprecated, and its use is discouraged in favor of multi-dimensional data structures like xarray or using MultiIndex DataFrames.\n",
        "\n"
      ],
      "metadata": {
        "id": "yjwQ8Orsazce"
      }
    },
    {
      "cell_type": "code",
      "source": [],
      "metadata": {
        "id": "_OmxDyhAZrDs"
      },
      "execution_count": null,
      "outputs": []
    },
    {
      "cell_type": "markdown",
      "source": [
        "Q7. Create a DataFrame using multiple Series. Explain with an example."
      ],
      "metadata": {
        "id": "Von8gL0UZrJa"
      }
    },
    {
      "cell_type": "code",
      "source": [
        "import pandas as pd\n",
        "\n",
        "# Creating individual Series\n",
        "series1 = pd.Series([1, 2, 3], name='A')\n",
        "series2 = pd.Series([4, 5, 6], name='B')\n",
        "series3 = pd.Series([7, 8, 9], name='C')\n",
        "\n",
        "# Combining Series into a DataFrame\n",
        "df = pd.DataFrame({\n",
        "    'A': series1,\n",
        "    'B': series2,\n",
        "    'C': series3\n",
        "})\n",
        "\n",
        "# Display the DataFrame\n",
        "print(df)\n"
      ],
      "metadata": {
        "colab": {
          "base_uri": "https://localhost:8080/"
        },
        "id": "wohy1xgwZrZK",
        "outputId": "0cd62114-e36e-4047-e5f5-7a9d004f35e1"
      },
      "execution_count": 5,
      "outputs": [
        {
          "output_type": "stream",
          "name": "stdout",
          "text": [
            "   A  B  C\n",
            "0  1  4  7\n",
            "1  2  5  8\n",
            "2  3  6  9\n"
          ]
        }
      ]
    },
    {
      "cell_type": "markdown",
      "source": [
        "Each Series becomes a column in the DataFrame.\n",
        "The index of each Series is automatically aligned"
      ],
      "metadata": {
        "id": "sFRtKrOSbDYQ"
      }
    }
  ]
}